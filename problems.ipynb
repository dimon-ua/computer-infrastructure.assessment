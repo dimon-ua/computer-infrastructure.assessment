{
 "cells": [
  {
   "cell_type": "markdown",
   "id": "5b167149",
   "metadata": {},
   "source": [
    "# Problem 1: Data from yfinance"
   ]
  },
  {
   "cell_type": "markdown",
   "id": "a63323a7",
   "metadata": {},
   "source": [
    "Importing the [yfinance](https://github.com/ranaroussi/yfinance) package."
   ]
  },
  {
   "cell_type": "code",
   "execution_count": 2,
   "id": "b813d9ec",
   "metadata": {},
   "outputs": [],
   "source": [
    "import yfinance as yf"
   ]
  }
 ],
 "metadata": {
  "kernelspec": {
   "display_name": "Python 3",
   "language": "python",
   "name": "python3"
  },
  "language_info": {
   "codemirror_mode": {
    "name": "ipython",
    "version": 3
   },
   "file_extension": ".py",
   "mimetype": "text/x-python",
   "name": "python",
   "nbconvert_exporter": "python",
   "pygments_lexer": "ipython3",
   "version": "3.12.1"
  }
 },
 "nbformat": 4,
 "nbformat_minor": 5
}
