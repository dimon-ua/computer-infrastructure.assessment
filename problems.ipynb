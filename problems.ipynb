{
 "cells": [
  {
   "cell_type": "markdown",
   "id": "5b167149",
   "metadata": {},
   "source": [
    "# Problem 1: Data from yfinance"
   ]
  },
  {
   "cell_type": "markdown",
   "id": "a63323a7",
   "metadata": {},
   "source": [
    "Importing the [yfinance](https://github.com/ranaroussi/yfinance) package."
   ]
  },
  {
   "cell_type": "code",
   "execution_count": 13,
   "id": "b813d9ec",
   "metadata": {},
   "outputs": [],
   "source": [
    "import yfinance as yf\n",
    "\n",
    "# https://docs.python.org/3/library/datetime.html#examples-of-usage-date\n",
    "import datetime as dt"
   ]
  },
  {
   "cell_type": "markdown",
   "id": "29b0673e",
   "metadata": {},
   "source": [
    "Getting each data in variables."
   ]
  },
  {
   "cell_type": "code",
   "execution_count": 6,
   "id": "ef6c75d0",
   "metadata": {},
   "outputs": [
    {
     "name": "stderr",
     "output_type": "stream",
     "text": [
      "/tmp/ipykernel_2965/2334644856.py:10: FutureWarning: YF.download() has changed argument auto_adjust default to True\n",
      "  df = yf.download(['META', 'AAPL', 'AMZN', 'NFLX', 'GOOG'], period='5d')\n",
      "[*********************100%***********************]  5 of 5 completed\n"
     ]
    }
   ],
   "source": [
    "# yf.download('META', 'AAPL', 'AMZN', 'NFLX', 'GOOG', period='5d')\n",
    "#meta_data = yf.download('META', period='5d')\n",
    "# apple_data = yf.download('AAPL', period='5d')\n",
    "# amazon_data = yf.download('AMZN', period='5d')\n",
    "# netflix = yf.download('NFLX', period='5d')\n",
    "# google_data = yf.download('GOOG', period='5d')\n",
    "\n",
    "# Using `download` method to get data for 5 days period\n",
    "# https://ranaroussi.github.io/yfinance/reference/api/yfinance.download.html#yfinance-download\n",
    "df = yf.download(['META', 'AAPL', 'AMZN', 'NFLX', 'GOOG'], period='5d')"
   ]
  },
  {
   "cell_type": "code",
   "execution_count": 7,
   "id": "1bd9d6bc",
   "metadata": {},
   "outputs": [
    {
     "name": "stdout",
     "output_type": "stream",
     "text": [
      "Price            Close                                                   \\\n",
      "Ticker            AAPL        AMZN        GOOG        META         NFLX   \n",
      "Date                                                                      \n",
      "2025-10-27  268.809998  226.970001  269.929993  750.820007  1094.560059   \n",
      "2025-10-28  269.000000  229.250000  268.429993  751.440002  1102.500000   \n",
      "2025-10-29  269.700012  230.300003  275.170013  751.669983  1100.410034   \n",
      "2025-10-30  271.399994  222.860001  281.899994  666.469971  1089.000000   \n",
      "2025-10-31  270.640015  247.050003  280.790009  659.590088  1129.400024   \n",
      "\n",
      "Price             High                                                   ...  \\\n",
      "Ticker            AAPL        AMZN        GOOG        META         NFLX  ...   \n",
      "Date                                                                     ...   \n",
      "2025-10-27  269.119995  228.399994  270.799988  755.750000  1102.280029  ...   \n",
      "2025-10-28  269.890015  231.490005  271.380005  758.400024  1116.979980  ...   \n",
      "2025-10-29  271.410004  232.820007  275.970001  759.159973  1108.550049  ...   \n",
      "2025-10-30  274.140015  228.440002  291.929993  680.960022  1106.160034  ...   \n",
      "2025-10-31  277.320007  250.500000  286.285004  674.890015  1131.650024  ...   \n",
      "\n",
      "Price             Open                                                   \\\n",
      "Ticker            AAPL        AMZN        GOOG        META         NFLX   \n",
      "Date                                                                      \n",
      "2025-10-27  264.880005  227.660004  265.359985  749.729980  1100.670044   \n",
      "2025-10-28  268.989990  228.220001  270.200012  752.630005  1094.000000   \n",
      "2025-10-29  269.279999  231.669998  268.609985  754.750000  1099.839966   \n",
      "2025-10-30  271.989990  227.059998  291.720001  669.150024  1094.400024   \n",
      "2025-10-31  276.989990  250.199997  283.204987  674.669983  1105.390015   \n",
      "\n",
      "Price         Volume                                          \n",
      "Ticker          AAPL       AMZN      GOOG      META     NFLX  \n",
      "Date                                                          \n",
      "2025-10-27  44888200   38267000  22987700  11321100  4691100  \n",
      "2025-10-28  41534800   47100000  20101200  12193800  4020900  \n",
      "2025-10-29  51086700   52036200  26287900  26818600  3399500  \n",
      "2025-10-30  68953200  100515400  48492100  88194000  4063300  \n",
      "2025-10-31  30202869   85729763  10598851  20354997  2717586  \n",
      "\n",
      "[5 rows x 25 columns]\n"
     ]
    }
   ],
   "source": [
    "print(df)"
   ]
  },
  {
   "cell_type": "code",
   "execution_count": 11,
   "id": "3a7f5620",
   "metadata": {},
   "outputs": [],
   "source": [
    "df.to_csv('data/data.csv')"
   ]
  },
  {
   "cell_type": "code",
   "execution_count": 16,
   "id": "840f6456",
   "metadata": {},
   "outputs": [
    {
     "data": {
      "text/plain": [
       "datetime.datetime(2025, 10, 31, 15, 18, 54, 62989)"
      ]
     },
     "execution_count": 16,
     "metadata": {},
     "output_type": "execute_result"
    }
   ],
   "source": [
    "# Current date and time\n",
    "now = dt.datetime.now()\n",
    "\n",
    "# Show.\n",
    "now"
   ]
  },
  {
   "cell_type": "code",
   "execution_count": 18,
   "id": "829f6764",
   "metadata": {},
   "outputs": [
    {
     "data": {
      "text/plain": [
       "'20251031-151854'"
      ]
     },
     "execution_count": 18,
     "metadata": {},
     "output_type": "execute_result"
    }
   ],
   "source": [
    "now.strftime(\"%Y%m%d-%H%M%S\")"
   ]
  },
  {
   "cell_type": "code",
   "execution_count": 20,
   "id": "562ef8ad",
   "metadata": {},
   "outputs": [
    {
     "name": "stdout",
     "output_type": "stream",
     "text": [
      "20251031-151854.csv\n"
     ]
    }
   ],
   "source": [
    "file_name = now.strftime(\"%Y%m%d-%H%M%S\") + \".csv\"\n",
    "\n",
    "print(file_name)"
   ]
  },
  {
   "cell_type": "code",
   "execution_count": 23,
   "id": "032766e8",
   "metadata": {},
   "outputs": [],
   "source": [
    "df.to_csv(\"data/\" + now.strftime(\"%Y%m%d-%H%M%S\") + \".csv\")"
   ]
  }
 ],
 "metadata": {
  "kernelspec": {
   "display_name": "Python 3",
   "language": "python",
   "name": "python3"
  },
  "language_info": {
   "codemirror_mode": {
    "name": "ipython",
    "version": 3
   },
   "file_extension": ".py",
   "mimetype": "text/x-python",
   "name": "python",
   "nbconvert_exporter": "python",
   "pygments_lexer": "ipython3",
   "version": "3.12.1"
  }
 },
 "nbformat": 4,
 "nbformat_minor": 5
}
